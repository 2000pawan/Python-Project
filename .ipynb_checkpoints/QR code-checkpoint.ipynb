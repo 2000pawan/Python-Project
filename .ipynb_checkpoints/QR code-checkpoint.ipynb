{
 "cells": [
  {
   "cell_type": "code",
   "execution_count": 4,
   "id": "94d9d53e-b212-414a-918d-c6616552d0cf",
   "metadata": {},
   "outputs": [],
   "source": [
    "import qrcode\n",
    "qr=qrcode.make('https://linktr.ee/2000yadav22')\n",
    "qr.save('qr-img.jpg')"
   ]
  },
  {
   "cell_type": "code",
   "execution_count": 5,
   "id": "ce0a5f69-f26d-47d7-b5a4-e93159301bae",
   "metadata": {},
   "outputs": [],
   "source": [
    "import qrcode\n",
    "obj=qrcode.QRCode(version=1,error_correction=qrcode.constants.ERROR_CORRECT_L,box_size=10,border=4)\n",
    "obj.add_data('https://linktr.ee/2000yadav22')\n",
    "obj.make(fit=True)\n",
    "qr=obj.make_image(fill_color='cyan',back_color='black')\n",
    "qr.save('profile.png')"
   ]
  },
  {
   "cell_type": "code",
   "execution_count": 9,
   "id": "fde5114c-040f-4035-a6e7-93dd319f8c80",
   "metadata": {},
   "outputs": [
    {
     "name": "stdout",
     "output_type": "stream",
     "text": [
      "Information: https://linktr.ee/2000yadav22\n"
     ]
    }
   ],
   "source": [
    "import cv2  \n",
    "qr_img = cv2.imread(\"qr-img.jpg\")    \n",
    "qr_det = cv2.QRCodeDetector()    \n",
    "val, pts, st_code = qr_det.detectAndDecode(qr_img)  \n",
    "print(\"Information:\", val)  "
   ]
  },
  {
   "cell_type": "code",
   "execution_count": null,
   "id": "e5f2d80f-bb27-430d-82e9-414b5ffea0e8",
   "metadata": {},
   "outputs": [],
   "source": []
  }
 ],
 "metadata": {
  "kernelspec": {
   "display_name": "Python 3 (ipykernel)",
   "language": "python",
   "name": "python3"
  },
  "language_info": {
   "codemirror_mode": {
    "name": "ipython",
    "version": 3
   },
   "file_extension": ".py",
   "mimetype": "text/x-python",
   "name": "python",
   "nbconvert_exporter": "python",
   "pygments_lexer": "ipython3",
   "version": "3.11.7"
  },
  "widgets": {
   "application/vnd.jupyter.widget-state+json": {
    "state": {},
    "version_major": 2,
    "version_minor": 0
   }
  }
 },
 "nbformat": 4,
 "nbformat_minor": 5
}
