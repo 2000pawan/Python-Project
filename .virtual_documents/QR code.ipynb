import qrcode
qr=qrcode.make('https://linktr.ee/2000yadav22')
qr.save('qr-img.jpg')


import qrcode
obj=qrcode.QRCode(version=1,error_correction=qrcode.constants.ERROR_CORRECT_L,box_size=10,border=4)
obj.add_data('https://linktr.ee/2000yadav22')
obj.make(fit=True)
qr=obj.make_image(fill_color='cyan',back_color='black')
qr.save('profile.png')


import cv2  
qr_img = cv2.imread("qr-img.jpg")    
qr_det = cv2.QRCodeDetector()    
val, pts, st_code = qr_det.detectAndDecode(qr_img)  
print("Information:", val)  



