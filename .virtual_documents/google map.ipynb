import os
import folium
from geopy.geocoders import Nominatim as nt


geo_locator=nt(user_agent='geoapiExercise')
p1='Yemen'
l1=geo_locator.geocode(p1)
map=folium.Map(location=[l1.longitude,l1.latitude],zoom_start=15)
map


folium.CircleMarker(location=[l1.longitude,l1.latitude],radius=45,popup='Yemen').add_to(map)
map


folium.Marker(location=[l1.longitude,l1.latitude],popup='Yemen').add_to(map)
map


p1='Aden'
p2='Yemen'
location_1=geo_locator.geocode(p1)
location_2=geo_locator.geocode(p2)
user_map1=folium.Map(location = [location_1.longitude, location_1.latitude],  
                                        zoom_start = 6)  
folium.Marker([location_1.longitude, location_1.latitude],  
               popup = ['Aden']).add_to(user_map1)  
folium.Marker([location_2.longitude, location_2.latitude],  
              popup = 'Yemen').add_to(user_map1)  
folium.PolyLine(locations = [[location_1.longitude, location_1.latitude], [location_2.longitude, location_2.latitude]],  
                line_opacity = 0.5).add_to(user_map1)  
user_map1



